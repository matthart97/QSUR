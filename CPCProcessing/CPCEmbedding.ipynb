{
 "cells": [
  {
   "cell_type": "code",
   "execution_count": 2,
   "metadata": {},
   "outputs": [
    {
     "name": "stderr",
     "output_type": "stream",
     "text": [
      "/home/matt/miniforge3/envs/QSUR/lib/python3.11/site-packages/tqdm/auto.py:21: TqdmWarning: IProgress not found. Please update jupyter and ipywidgets. See https://ipywidgets.readthedocs.io/en/stable/user_install.html\n",
      "  from .autonotebook import tqdm as notebook_tqdm\n"
     ]
    }
   ],
   "source": [
    "import torch\n",
    "from transformers import BertModel, BertTokenizer\n",
    "import pandas as pd\n",
    "import pickle\n",
    "from scipy.spatial.distance import cosine\n",
    "import numpy as np"
   ]
  },
  {
   "cell_type": "code",
   "execution_count": 11,
   "metadata": {},
   "outputs": [
    {
     "name": "stderr",
     "output_type": "stream",
     "text": [
      "Some weights of the model checkpoint at bert-base-uncased were not used when initializing BertModel: ['cls.predictions.transform.dense.bias', 'cls.predictions.transform.LayerNorm.weight', 'cls.predictions.transform.LayerNorm.bias', 'cls.predictions.transform.dense.weight', 'cls.predictions.decoder.weight', 'cls.seq_relationship.bias', 'cls.seq_relationship.weight', 'cls.predictions.bias']\n",
      "- This IS expected if you are initializing BertModel from the checkpoint of a model trained on another task or with another architecture (e.g. initializing a BertForSequenceClassification model from a BertForPreTraining model).\n",
      "- This IS NOT expected if you are initializing BertModel from the checkpoint of a model that you expect to be exactly identical (initializing a BertForSequenceClassification model from a BertForSequenceClassification model).\n"
     ]
    }
   ],
   "source": [
    "\n",
    "# Load pre-trained model tokenizer (vocabulary) and model\n",
    "tokenizer = BertTokenizer.from_pretrained('bert-base-uncased')\n",
    "model = BertModel.from_pretrained('bert-base-uncased')"
   ]
  },
  {
   "cell_type": "code",
   "execution_count": 2,
   "metadata": {},
   "outputs": [],
   "source": [
    "# Function to embed descriptions using BERT\n",
    "def get_bert_embeddings(texts):\n",
    "    model.eval()  # Set model to evaluation mode\n",
    "    embeddings = []\n",
    "    with torch.no_grad():  # No need to compute gradients\n",
    "        for text in texts:\n",
    "            inputs = tokenizer(text, return_tensors=\"pt\", truncation=True, padding=True, max_length=512)\n",
    "            outputs = model(**inputs)\n",
    "            # Get the embeddings from the last hidden state (mean pooling)\n",
    "            embeddings.append(outputs.last_hidden_state.mean(dim=1).squeeze().numpy())\n",
    "    return embeddings"
   ]
  },
  {
   "cell_type": "code",
   "execution_count": 10,
   "metadata": {},
   "outputs": [],
   "source": [
    "\n",
    "# Function to load embeddings from a file\n",
    "def load_embeddings(file_path):\n",
    "    with open(file_path, 'rb') as f:\n",
    "        embeddings = pickle.load(f)\n",
    "    return embeddings\n",
    "\n",
    "# Function to compute cosine similarity between two embeddings\n",
    "def cosine_similarity(embedding1, embedding2):\n",
    "    # Cosine similarity is the inverse of cosine distance\n",
    "    return 1 - cosine(embedding1, embedding2)\n"
   ]
  },
  {
   "cell_type": "code",
   "execution_count": 3,
   "metadata": {},
   "outputs": [
    {
     "data": {
      "text/plain": [
       "Index(['CPCcode', 'CPCDescription'], dtype='object')"
      ]
     },
     "execution_count": 3,
     "metadata": {},
     "output_type": "execute_result"
    }
   ],
   "source": [
    "\n",
    "\n",
    "df = pd.read_csv('../CPCProcessing/CPCDescriptions.csv')\n",
    "df.columns"
   ]
  },
  {
   "cell_type": "code",
   "execution_count": 9,
   "metadata": {},
   "outputs": [],
   "source": [
    "CPCs = df['CPCDescription'].unique()"
   ]
  },
  {
   "cell_type": "code",
   "execution_count": 12,
   "metadata": {},
   "outputs": [],
   "source": [
    "\n",
    "\n",
    "def get_bert_embeddings_with_labels(texts, labels):\n",
    "    model.eval()\n",
    "    embeddings_dict = {}\n",
    "    \n",
    "    with torch.no_grad():\n",
    "        for text, label in zip(texts, labels):\n",
    "            inputs = tokenizer(text, return_tensors=\"pt\", truncation=True, padding=True, max_length=512)\n",
    "            outputs = model(**inputs)\n",
    "            embedding = outputs.last_hidden_state.mean(dim=1).squeeze().numpy()\n",
    "            embeddings_dict[label] = embedding\n",
    "    \n",
    "    return embeddings_dict\n",
    "\n",
    "# Create DataFrame from embeddings\n",
    "def create_embeddings_df(embeddings_dict):\n",
    "    # Convert dictionary to DataFrame\n",
    "    df = pd.DataFrame({\n",
    "        'label': list(embeddings_dict.keys()),\n",
    "        'embedding': list(embeddings_dict.values())\n",
    "    })\n",
    "    return df\n",
    "\n",
    "# Usage\n",
    "labels = CPCs\n",
    "embeddings_dict = get_bert_embeddings_with_labels(CPCs, labels)\n",
    "\n",
    "# Create DataFrame\n",
    "df_embeddings = create_embeddings_df(embeddings_dict)\n",
    "\n",
    "# Save to file (multiple options)\n"
   ]
  },
  {
   "cell_type": "code",
   "execution_count": 13,
   "metadata": {},
   "outputs": [
    {
     "data": {
      "text/html": [
       "<div>\n",
       "<style scoped>\n",
       "    .dataframe tbody tr th:only-of-type {\n",
       "        vertical-align: middle;\n",
       "    }\n",
       "\n",
       "    .dataframe tbody tr th {\n",
       "        vertical-align: top;\n",
       "    }\n",
       "\n",
       "    .dataframe thead th {\n",
       "        text-align: right;\n",
       "    }\n",
       "</style>\n",
       "<table border=\"1\" class=\"dataframe\">\n",
       "  <thead>\n",
       "    <tr style=\"text-align: right;\">\n",
       "      <th></th>\n",
       "      <th>label</th>\n",
       "      <th>embedding</th>\n",
       "    </tr>\n",
       "  </thead>\n",
       "  <tbody>\n",
       "    <tr>\n",
       "      <th>0</th>\n",
       "      <td>SPECIFIC THERAPEUTIC ACTIVITY OF CHEMICAL COMP...</td>\n",
       "      <td>[0.18587406, 0.3988257, -0.0760595, -0.2632123...</td>\n",
       "    </tr>\n",
       "    <tr>\n",
       "      <th>1</th>\n",
       "      <td>MATERIALS FOR MISCELLANEOUS APPLICATIONS, NOT ...</td>\n",
       "      <td>[0.36048418, 0.08068754, 0.30791503, 0.2654474...</td>\n",
       "    </tr>\n",
       "    <tr>\n",
       "      <th>2</th>\n",
       "      <td>ACYCLIC OR CARBOCYCLIC COMPOUNDS/ ACYCLIC OR C...</td>\n",
       "      <td>[-0.15903594, 0.42084968, 0.19312954, 0.077889...</td>\n",
       "    </tr>\n",
       "    <tr>\n",
       "      <th>3</th>\n",
       "      <td>HETEROCYCLIC COMPOUNDS / HETEROCYCLIC COMPOUNDS</td>\n",
       "      <td>[-0.07435591, 0.391528, 0.05797588, -0.0220640...</td>\n",
       "    </tr>\n",
       "    <tr>\n",
       "      <th>4</th>\n",
       "      <td>ACYCLIC, CARBOCYCLIC OR HETEROCYCLIC COMPOUNDS...</td>\n",
       "      <td>[-0.42760912, 0.3552434, 0.22935525, 0.0432389...</td>\n",
       "    </tr>\n",
       "    <tr>\n",
       "      <th>...</th>\n",
       "      <td>...</td>\n",
       "      <td>...</td>\n",
       "    </tr>\n",
       "    <tr>\n",
       "      <th>247</th>\n",
       "      <td>SLAUGHTERING/ SLAUGHTERING</td>\n",
       "      <td>[0.6271786, 0.064747326, -0.05660874, 0.133950...</td>\n",
       "    </tr>\n",
       "    <tr>\n",
       "      <th>248</th>\n",
       "      <td>INFORMATION AND COMMUNICATION TECHNOLOGY [ICT]...</td>\n",
       "      <td>[0.30049437, 0.4705137, 0.17368175, 0.07256717...</td>\n",
       "    </tr>\n",
       "    <tr>\n",
       "      <th>249</th>\n",
       "      <td>TIME-INTERVAL MEASURING / TIME-INTERVAL MEASUR...</td>\n",
       "      <td>[0.1778687, -0.07610254, 0.010347518, -0.04183...</td>\n",
       "    </tr>\n",
       "    <tr>\n",
       "      <th>250</th>\n",
       "      <td>SERVICING, CLEANING, REPAIRING, SUPPORTING, LI...</td>\n",
       "      <td>[-0.07927508, 0.33253393, 0.45123893, 0.278501...</td>\n",
       "    </tr>\n",
       "    <tr>\n",
       "      <th>251</th>\n",
       "      <td>METHODS OR APPARATUS FOR GENERATING OR TRANSMI...</td>\n",
       "      <td>[0.33899912, 0.10783686, 0.3426081, 0.06001549...</td>\n",
       "    </tr>\n",
       "  </tbody>\n",
       "</table>\n",
       "<p>252 rows × 2 columns</p>\n",
       "</div>"
      ],
      "text/plain": [
       "                                                 label  \\\n",
       "0    SPECIFIC THERAPEUTIC ACTIVITY OF CHEMICAL COMP...   \n",
       "1    MATERIALS FOR MISCELLANEOUS APPLICATIONS, NOT ...   \n",
       "2    ACYCLIC OR CARBOCYCLIC COMPOUNDS/ ACYCLIC OR C...   \n",
       "3     HETEROCYCLIC COMPOUNDS / HETEROCYCLIC COMPOUNDS    \n",
       "4    ACYCLIC, CARBOCYCLIC OR HETEROCYCLIC COMPOUNDS...   \n",
       "..                                                 ...   \n",
       "247                         SLAUGHTERING/ SLAUGHTERING   \n",
       "248  INFORMATION AND COMMUNICATION TECHNOLOGY [ICT]...   \n",
       "249  TIME-INTERVAL MEASURING / TIME-INTERVAL MEASUR...   \n",
       "250  SERVICING, CLEANING, REPAIRING, SUPPORTING, LI...   \n",
       "251  METHODS OR APPARATUS FOR GENERATING OR TRANSMI...   \n",
       "\n",
       "                                             embedding  \n",
       "0    [0.18587406, 0.3988257, -0.0760595, -0.2632123...  \n",
       "1    [0.36048418, 0.08068754, 0.30791503, 0.2654474...  \n",
       "2    [-0.15903594, 0.42084968, 0.19312954, 0.077889...  \n",
       "3    [-0.07435591, 0.391528, 0.05797588, -0.0220640...  \n",
       "4    [-0.42760912, 0.3552434, 0.22935525, 0.0432389...  \n",
       "..                                                 ...  \n",
       "247  [0.6271786, 0.064747326, -0.05660874, 0.133950...  \n",
       "248  [0.30049437, 0.4705137, 0.17368175, 0.07256717...  \n",
       "249  [0.1778687, -0.07610254, 0.010347518, -0.04183...  \n",
       "250  [-0.07927508, 0.33253393, 0.45123893, 0.278501...  \n",
       "251  [0.33899912, 0.10783686, 0.3426081, 0.06001549...  \n",
       "\n",
       "[252 rows x 2 columns]"
      ]
     },
     "execution_count": 13,
     "metadata": {},
     "output_type": "execute_result"
    }
   ],
   "source": [
    "df_embeddings"
   ]
  },
  {
   "cell_type": "code",
   "execution_count": 14,
   "metadata": {},
   "outputs": [],
   "source": [
    "df_embeddings['code'] = df['CPCcode']"
   ]
  },
  {
   "cell_type": "code",
   "execution_count": 18,
   "metadata": {},
   "outputs": [
    {
     "data": {
      "text/html": [
       "<div>\n",
       "<style scoped>\n",
       "    .dataframe tbody tr th:only-of-type {\n",
       "        vertical-align: middle;\n",
       "    }\n",
       "\n",
       "    .dataframe tbody tr th {\n",
       "        vertical-align: top;\n",
       "    }\n",
       "\n",
       "    .dataframe thead th {\n",
       "        text-align: right;\n",
       "    }\n",
       "</style>\n",
       "<table border=\"1\" class=\"dataframe\">\n",
       "  <thead>\n",
       "    <tr style=\"text-align: right;\">\n",
       "      <th></th>\n",
       "      <th>label</th>\n",
       "      <th>embedding</th>\n",
       "      <th>code</th>\n",
       "    </tr>\n",
       "  </thead>\n",
       "  <tbody>\n",
       "    <tr>\n",
       "      <th>0</th>\n",
       "      <td>SPECIFIC THERAPEUTIC ACTIVITY OF CHEMICAL COMP...</td>\n",
       "      <td>[0.18587406, 0.3988257, -0.0760595, -0.2632123...</td>\n",
       "      <td>A61P</td>\n",
       "    </tr>\n",
       "    <tr>\n",
       "      <th>1</th>\n",
       "      <td>MATERIALS FOR MISCELLANEOUS APPLICATIONS, NOT ...</td>\n",
       "      <td>[0.36048418, 0.08068754, 0.30791503, 0.2654474...</td>\n",
       "      <td>C09K</td>\n",
       "    </tr>\n",
       "    <tr>\n",
       "      <th>2</th>\n",
       "      <td>ACYCLIC OR CARBOCYCLIC COMPOUNDS/ ACYCLIC OR C...</td>\n",
       "      <td>[-0.15903594, 0.42084968, 0.19312954, 0.077889...</td>\n",
       "      <td>C07C</td>\n",
       "    </tr>\n",
       "    <tr>\n",
       "      <th>3</th>\n",
       "      <td>HETEROCYCLIC COMPOUNDS / HETEROCYCLIC COMPOUNDS</td>\n",
       "      <td>[-0.07435591, 0.391528, 0.05797588, -0.0220640...</td>\n",
       "      <td>C07D</td>\n",
       "    </tr>\n",
       "    <tr>\n",
       "      <th>4</th>\n",
       "      <td>ACYCLIC, CARBOCYCLIC OR HETEROCYCLIC COMPOUNDS...</td>\n",
       "      <td>[-0.42760912, 0.3552434, 0.22935525, 0.0432389...</td>\n",
       "      <td>C07F</td>\n",
       "    </tr>\n",
       "    <tr>\n",
       "      <th>...</th>\n",
       "      <td>...</td>\n",
       "      <td>...</td>\n",
       "      <td>...</td>\n",
       "    </tr>\n",
       "    <tr>\n",
       "      <th>247</th>\n",
       "      <td>SLAUGHTERING/ SLAUGHTERING</td>\n",
       "      <td>[0.6271786, 0.064747326, -0.05660874, 0.133950...</td>\n",
       "      <td>A22B</td>\n",
       "    </tr>\n",
       "    <tr>\n",
       "      <th>248</th>\n",
       "      <td>INFORMATION AND COMMUNICATION TECHNOLOGY [ICT]...</td>\n",
       "      <td>[0.30049437, 0.4705137, 0.17368175, 0.07256717...</td>\n",
       "      <td>G06Q</td>\n",
       "    </tr>\n",
       "    <tr>\n",
       "      <th>249</th>\n",
       "      <td>TIME-INTERVAL MEASURING / TIME-INTERVAL MEASUR...</td>\n",
       "      <td>[0.1778687, -0.07610254, 0.010347518, -0.04183...</td>\n",
       "      <td>G04F</td>\n",
       "    </tr>\n",
       "    <tr>\n",
       "      <th>250</th>\n",
       "      <td>SERVICING, CLEANING, REPAIRING, SUPPORTING, LI...</td>\n",
       "      <td>[-0.07927508, 0.33253393, 0.45123893, 0.278501...</td>\n",
       "      <td>B60S</td>\n",
       "    </tr>\n",
       "    <tr>\n",
       "      <th>251</th>\n",
       "      <td>METHODS OR APPARATUS FOR GENERATING OR TRANSMI...</td>\n",
       "      <td>[0.33899912, 0.10783686, 0.3426081, 0.06001549...</td>\n",
       "      <td>B06B</td>\n",
       "    </tr>\n",
       "  </tbody>\n",
       "</table>\n",
       "<p>252 rows × 3 columns</p>\n",
       "</div>"
      ],
      "text/plain": [
       "                                                 label  \\\n",
       "0    SPECIFIC THERAPEUTIC ACTIVITY OF CHEMICAL COMP...   \n",
       "1    MATERIALS FOR MISCELLANEOUS APPLICATIONS, NOT ...   \n",
       "2    ACYCLIC OR CARBOCYCLIC COMPOUNDS/ ACYCLIC OR C...   \n",
       "3     HETEROCYCLIC COMPOUNDS / HETEROCYCLIC COMPOUNDS    \n",
       "4    ACYCLIC, CARBOCYCLIC OR HETEROCYCLIC COMPOUNDS...   \n",
       "..                                                 ...   \n",
       "247                         SLAUGHTERING/ SLAUGHTERING   \n",
       "248  INFORMATION AND COMMUNICATION TECHNOLOGY [ICT]...   \n",
       "249  TIME-INTERVAL MEASURING / TIME-INTERVAL MEASUR...   \n",
       "250  SERVICING, CLEANING, REPAIRING, SUPPORTING, LI...   \n",
       "251  METHODS OR APPARATUS FOR GENERATING OR TRANSMI...   \n",
       "\n",
       "                                             embedding  code  \n",
       "0    [0.18587406, 0.3988257, -0.0760595, -0.2632123...  A61P  \n",
       "1    [0.36048418, 0.08068754, 0.30791503, 0.2654474...  C09K  \n",
       "2    [-0.15903594, 0.42084968, 0.19312954, 0.077889...  C07C  \n",
       "3    [-0.07435591, 0.391528, 0.05797588, -0.0220640...  C07D  \n",
       "4    [-0.42760912, 0.3552434, 0.22935525, 0.0432389...  C07F  \n",
       "..                                                 ...   ...  \n",
       "247  [0.6271786, 0.064747326, -0.05660874, 0.133950...  A22B  \n",
       "248  [0.30049437, 0.4705137, 0.17368175, 0.07256717...  G06Q  \n",
       "249  [0.1778687, -0.07610254, 0.010347518, -0.04183...  G04F  \n",
       "250  [-0.07927508, 0.33253393, 0.45123893, 0.278501...  B60S  \n",
       "251  [0.33899912, 0.10783686, 0.3426081, 0.06001549...  B06B  \n",
       "\n",
       "[252 rows x 3 columns]"
      ]
     },
     "execution_count": 18,
     "metadata": {},
     "output_type": "execute_result"
    }
   ],
   "source": [
    "df_embeddings"
   ]
  },
  {
   "cell_type": "code",
   "execution_count": 19,
   "metadata": {},
   "outputs": [],
   "source": [
    "# Save to file (multiple options)\n",
    "# 1. Save as pickle\n",
    "df_embeddings.to_pickle('CPCEmbeddings.pkl')\n",
    "\n",
    "# 2. Save as numpy array with labels\n",
    "np.savez('CPCEmbeddings.npz', \n",
    "         embeddings=np.array([e for e in embeddings_dict.values()]), \n",
    "         labels=np.array(list(embeddings_dict.keys())),\n",
    "         code = np.array(list(embeddings_dict.keys())))"
   ]
  },
  {
   "cell_type": "code",
   "execution_count": null,
   "metadata": {},
   "outputs": [],
   "source": []
  }
 ],
 "metadata": {
  "kernelspec": {
   "display_name": "QSUR",
   "language": "python",
   "name": "python3"
  },
  "language_info": {
   "codemirror_mode": {
    "name": "ipython",
    "version": 3
   },
   "file_extension": ".py",
   "mimetype": "text/x-python",
   "name": "python",
   "nbconvert_exporter": "python",
   "pygments_lexer": "ipython3",
   "version": "3.11.6"
  }
 },
 "nbformat": 4,
 "nbformat_minor": 2
}
